{
 "cells": [
  {
   "cell_type": "markdown",
   "metadata": {},
   "source": [
    "# Building a graph with errors and saving it as an image.\n",
    "\n",
    "Ported to notebook by Theis Hansen"
   ]
  },
  {
   "cell_type": "markdown",
   "metadata": {},
   "source": [
    "Since we are using ROOT, we need to import it so that we can access its toolkit and set the Notebook to C++."
   ]
  },
  {
   "cell_type": "code",
   "execution_count": 1,
   "metadata": {
    "scrolled": true
   },
   "outputs": [
    {
     "name": "stdout",
     "output_type": "stream",
     "text": [
      "\u001b[?1034h"
     ]
    },
    {
     "name": "stderr",
     "output_type": "stream",
     "text": [
      "input_line_25:2:8: error: expected ';' after expression\n",
      " import ROOT\n",
      "       ^\n",
      "       ;\n",
      "input_line_25:2:9: error: unexpected namespace name 'ROOT': expected expression\n",
      " import ROOT\n",
      "        ^\n"
     ]
    }
   ],
   "source": [
    "import ROOT\n"
   ]
  },
  {
   "cell_type": "markdown",
   "metadata": {},
   "source": [
    "### The Graph\n",
    "Here we are setting up our axes, with the number of points (n), our values for the x and y axes, and the values for our errors that are on the y axis."
   ]
  },
  {
   "cell_type": "code",
   "execution_count": 1,
   "metadata": {},
   "outputs": [
    {
     "name": "stdout",
     "output_type": "stream",
     "text": [
      "\u001b[?1034h"
     ]
    }
   ],
   "source": [
    "const int n_points=10;\n",
    "double x_vals[n_points]= {1,2,3,4,5,6,7,8,9,10};\n",
    "double y_vals[n_points]= {6,12,14,20,22,24,35,45,44,53};\n",
    "double y_errs[n_points]= {5,5,4.7,4.5,4.2,5.1,2.9,4.1,4.8,5.43};"
   ]
  },
  {
   "cell_type": "markdown",
   "metadata": {},
   "source": [
    "We then create the graph using the Type TGraphErrors, this Type allows us to add errors into our graph. We can then make our graph more aesthetic by setting the markers, title, colors to our preferences."
   ]
  },
  {
   "cell_type": "code",
   "execution_count": 2,
   "metadata": {
    "collapsed": true
   },
   "outputs": [],
   "source": [
    "TGraphErrors graph(n_points,x_vals,y_vals,nullptr,y_errs);\n",
    "graph.SetTitle(\"Measurement XYZ;length [cm];Arb.Units\");\n",
    "graph.SetMarkerStyle(kOpenCircle);\n",
    "graph.SetMarkerColor(kBlue);\n",
    "graph.SetLineColor(kBlue);\n",
    "graph.SetFillColor(0);"
   ]
  },
  {
   "cell_type": "markdown",
   "metadata": {},
   "source": [
    "We draw the graph using the Draw command. In case you were wondering, \"APE\" is simply a specification, telling the computer to draw said object with the Axes, Points (or markers) and Errors."
   ]
  },
  {
   "cell_type": "code",
   "execution_count": 7,
   "metadata": {},
   "outputs": [
    {
     "name": "stderr",
     "output_type": "stream",
     "text": [
      "input_line_38:2:11: error: redefinition of 'c'\n",
      " TCanvas *c = new TCanvas(\"c\",\"test\",400, 400);\n",
      "          ^\n",
      "input_line_36:2:11: note: previous definition is here\n",
      " TCanvas *c = new TCanvas(\"c\",\"test\",400, 400);\n",
      "          ^\n"
     ]
    }
   ],
   "source": [
    "TCanvas *c = new TCanvas(\"c\",\"test\",400, 400);\n",
    "graph.Draw(\"APE\");\n",
    "c->Draw();"
   ]
  },
  {
   "cell_type": "markdown",
   "metadata": {},
   "source": [
    "### The Function for the Graph\n",
    "Here we use the Type TF1 to create a function that we will add to the graph, we also set it to our aesthetic preferences."
   ]
  },
  {
   "cell_type": "code",
   "execution_count": 8,
   "metadata": {
    "collapsed": true
   },
   "outputs": [],
   "source": [
    "TF1 f(\"Linear Law\",\"[0]+x*[1]\",.5,10.5);\n",
    "f.SetLineColor(kRed); \n",
    "f.SetLineStyle(2);"
   ]
  },
  {
   "cell_type": "markdown",
   "metadata": {},
   "source": [
    "We continue to add our function to our graph and have it fitted to match. This is done with the help of the \"&\" sign that pulls the function's pointer into the command so we can recuperate its information. The \"Same\" specification means that we will draw our function on the same graph we were creating earlier."
   ]
  },
  {
   "cell_type": "code",
   "execution_count": 9,
   "metadata": {
    "scrolled": false
   },
   "outputs": [
    {
     "name": "stdout",
     "output_type": "stream",
     "text": [
      " FCN=3.84883 FROM MIGRAD    STATUS=CONVERGED      31 CALLS          32 TOTAL\n",
      "                     EDM=5.96982e-22    STRATEGY= 1      ERROR MATRIX ACCURATE \n",
      "  EXT PARAMETER                                   STEP         FIRST   \n",
      "  NO.   NAME      VALUE            ERROR          SIZE      DERIVATIVE \n",
      "   1  p0          -1.01604e+00   3.33409e+00   1.48321e-03  -8.98235e-12\n",
      "   2  p1           5.18756e+00   5.30717e-01   2.36095e-04   9.40487e-12\n"
     ]
    }
   ],
   "source": [
    "graph.Fit(&f);\n",
    "f.Draw(\"Same\");"
   ]
  },
  {
   "cell_type": "markdown",
   "metadata": {},
   "source": [
    "### Creating an arrow to point out some information\n",
    "To create an arrow, we use the Type TArrow, in the brackets, the numers correspond respectively to this scheme (x1,y1,x2,y2,size of the arrow ending,shape of the arrows ending - in this case a regular arrow)"
   ]
  },
  {
   "cell_type": "code",
   "execution_count": 11,
   "metadata": {},
   "outputs": [
    {
     "name": "stderr",
     "output_type": "stream",
     "text": [
      "input_line_63:2:9: error: redefinition of 'arrow'\n",
      " TArrow arrow(8,8,6.2,23,0.02,\"|>\");\n",
      "        ^\n",
      "input_line_62:2:9: note: previous definition is here\n",
      " TArrow arrow(8,8,6.2,23,0.02,\"|>\");\n",
      "        ^\n"
     ]
    }
   ],
   "source": [
    "TArrow arrow(8,8,6.2,23,0.02,\"|>\");\n",
    "arrow.SetLineWidth(2);\n",
    "arrow.Draw();"
   ]
  },
  {
   "cell_type": "code",
   "execution_count": null,
   "metadata": {
    "collapsed": true
   },
   "outputs": [],
   "source": []
  }
 ],
 "metadata": {
  "kernelspec": {
   "display_name": "ROOT C++",
   "language": "c++",
   "name": "root"
  },
  "language_info": {
   "codemirror_mode": "text/x-c++src",
   "file_extension": ".C",
   "mimetype": " text/x-c++src",
   "name": "c++"
  }
 },
 "nbformat": 4,
 "nbformat_minor": 1
}
