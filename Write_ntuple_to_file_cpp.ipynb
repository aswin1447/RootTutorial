{
 "cells": [
  {
   "cell_type": "markdown",
   "metadata": {},
   "source": [
    "# Filling a n-tuple (simulating the conductivity of a material in different conditions of pressure and temperature) and writing it to a file\n",
    "Ported to Notebook by: Theis Hansen\n",
    "\n",
    "To use the ROOT toolkit, we need to import ROOT onto our Notebook, which we also set to C++"
   ]
  },
  {
   "cell_type": "code",
   "execution_count": 1,
   "metadata": {},
   "outputs": [
    {
     "name": "stdout",
     "output_type": "stream",
     "text": [
      "Welcome to ROOTaas Beta\n"
     ]
    },
    {
     "data": {
      "application/javascript": [
       "\n",
       "// Set default mode for code cells\n",
       "IPython.CodeCell.options_default.cm_config.mode = 'text/x-c++src';\n",
       "// Set CodeMirror's current mode\n",
       "var cells = IPython.notebook.get_cells();\n",
       "cells[cells.length-1].code_mirror.setOption('mode', 'text/x-c++src');\n",
       "// Set current mode for newly created cell\n",
       "cells[cells.length-1].cm_config.mode = 'text/x-c++src';\n"
      ]
     },
     "metadata": {},
     "output_type": "display_data"
    },
    {
     "name": "stdout",
     "output_type": "stream",
     "text": [
      "Notebook is in Cpp mode\n"
     ]
    }
   ],
   "source": [
    "from ROOTaaS.iPyROOT import ROOT\n",
    "ROOT.toCpp()"
   ]
  },
  {
   "cell_type": "markdown",
   "metadata": {},
   "source": [
    "### The Tuple\n",
    "We create a file which will contain our ntuple and the tuple itself."
   ]
  },
  {
   "cell_type": "code",
   "execution_count": 2,
   "metadata": {
    "collapsed": true
   },
   "outputs": [],
   "source": [
    "TFile ofile(\"conductivity_experiment.root\",\"RECREATE\");\n",
    "TNtuple cond_data(\"cond_data\",\"Example N-Tuple\",\"Potential:Current:Temperature:Pressure\");"
   ]
  },
  {
   "cell_type": "markdown",
   "metadata": {},
   "source": [
    "Then we fill it randomly (to simulate acquired data) using the TRandom3 random generator.\n",
    "We are also applying some \"smearing\" (measurement errors): 1% error on voltage (pot), pressure and current and 1.3 absolute error on temperature.\n",
    "At the end of the loop body we fill the ntuple."
   ]
  },
  {
   "cell_type": "code",
   "execution_count": 3,
   "metadata": {
    "collapsed": true
   },
   "outputs": [],
   "source": [
    "TRandom3 rndm;\n",
    "float pot,cur,temp,pres;\n",
    "for (int i=0;i<10000;++i){\n",
    "    pot=rndm.Uniform(0.,10.);\n",
    "    temp=rndm.Uniform(250.,350.);\n",
    "    pres=rndm.Uniform(0.5,1.5);\n",
    "    cur=pot/(10.+0.05*(temp-300.)-0.2*(pres-1));\n",
    "    \n",
    "    pot*=rndm.Gaus(1.,0.01);\n",
    "    temp+=rndm.Gaus(0.,0.3);\n",
    "    pres*=rndm.Gaus(1.,0.02);\n",
    "    cur*=rndm.Gaus(1.,0.01);    \n",
    "    \n",
    "    cond_data.Fill(pot,cur,temp,pres);\n",
    "}"
   ]
  },
  {
   "cell_type": "markdown",
   "metadata": {},
   "source": [
    "Save the TNtuple and close the file."
   ]
  },
  {
   "cell_type": "code",
   "execution_count": 4,
   "metadata": {
    "collapsed": true
   },
   "outputs": [],
   "source": [
    "cond_data.Write();\n",
    "ofile.Close();"
   ]
  },
  {
   "cell_type": "code",
   "execution_count": null,
   "metadata": {
    "collapsed": true
   },
   "outputs": [],
   "source": []
  }
 ],
 "metadata": {
  "kernelspec": {
   "display_name": "Python 2",
   "language": "python",
   "name": "python2"
  },
  "language_info": {
   "codemirror_mode": {
    "name": "ipython",
    "version": 2
   },
   "file_extension": ".py",
   "mimetype": "text/x-python",
   "name": "python",
   "nbconvert_exporter": "python",
   "pygments_lexer": "ipython2",
   "version": "2.7.13"
  }
 },
 "nbformat": 4,
 "nbformat_minor": 1
}
