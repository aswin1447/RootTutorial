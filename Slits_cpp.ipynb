{
 "cells": [
  {
   "cell_type": "markdown",
   "metadata": {},
   "source": [
    "# Tutorial: Drawing the interference pattern of light falling on a grid with n slits and a ratio of r of slit width over distance between slits in C++\n",
    "\n",
    "Translation to notebook by: Theis Hansen"
   ]
  },
  {
   "cell_type": "markdown",
   "metadata": {},
   "source": [
    "In this tutorial, we are going to learn to code the aforementioned grid in C++\n",
    "To begin with, we need to import ROOT so that we can use the toolkit. We also set our Notebook to C++"
   ]
  },
  {
   "cell_type": "code",
   "execution_count": 1,
   "metadata": {
    "collapsed": false
   },
   "outputs": [
    {
     "name": "stdout",
     "output_type": "stream",
     "text": [
      "Welcome to ROOTaas Beta\n"
     ]
    },
    {
     "data": {
      "application/javascript": [
       "\n",
       "// Set default mode for code cells\n",
       "IPython.CodeCell.options_default.cm_config.mode = 'text/x-c++src';\n",
       "// Set CodeMirror's current mode\n",
       "var cells = IPython.notebook.get_cells();\n",
       "cells[cells.length-1].code_mirror.setOption('mode', 'text/x-c++src');\n",
       "// Set current mode for newly created cell\n",
       "cells[cells.length-1].cm_config.mode = 'text/x-c++src';\n"
      ]
     },
     "metadata": {},
     "output_type": "display_data"
    },
    {
     "name": "stdout",
     "output_type": "stream",
     "text": [
      "Notebook is in Cpp mode\n"
     ]
    }
   ],
   "source": [
    "from ROOTaaS.iPyROOT import ROOT\n",
    "ROOT.toCpp()"
   ]
  },
  {
   "cell_type": "markdown",
   "metadata": {},
   "source": [
    "### Writing the Function\n",
    "We use ROOT Namespace TMath to access the mathimatical toolkit of ROOT. In this first line we are setting the value for our constant \"pi\", and we use the math toolkit to state that our \"pi\" is the mathimatical constant \"Pi\"."
   ]
  },
  {
   "cell_type": "code",
   "execution_count": 2,
   "metadata": {
    "collapsed": false
   },
   "outputs": [],
   "source": [
    "auto pi = TMath::Pi();"
   ]
  },
  {
   "cell_type": "markdown",
   "metadata": {},
   "source": [
    "Here we are writing the code for our functions that we will call on later. The \"*\"s are pointers, that access a certain area of the memory (only in the first set of parentheses of each line, the others are multiplications).\n",
    "\n",
    "The \".dcl\" marks a cell as used for declaration of functions. "
   ]
  },
  {
   "cell_type": "code",
   "execution_count": 3,
   "metadata": {
    "collapsed": false
   },
   "outputs": [],
   "source": [
    ".dcl\n",
    "double single(double *x, double *par){return pow(sin(pi*par[0]*x[0])/(pi*par[0]*x[0]),2);};\n",
    "double nslit0(double *x, double *par){return pow(sin(pi*par[1]*x[0])/sin(pi*x[0]),2);};\n",
    "double nslit(double *x, double *par){return single(x,par) * nslit0(x,par);};"
   ]
  },
  {
   "cell_type": "markdown",
   "metadata": {},
   "source": [
    "We set the number of slits to 4, and the ration of slit width to distance between slits to 2."
   ]
  },
  {
   "cell_type": "code",
   "execution_count": 4,
   "metadata": {
    "collapsed": false
   },
   "outputs": [],
   "source": [
    "float r=.2,ns=2;"
   ]
  },
  {
   "cell_type": "markdown",
   "metadata": {},
   "source": [
    "Here we are using the ROOT Type TF1 to write our function and we add the \"*\" pointer before our Fnslit object so that the information can be saved to the computer's memory. \n",
    "We set the options for our function with the command SetNpx. Here we use the \"->\" because we are setting a command to an object with a pointer."
   ]
  },
  {
   "cell_type": "code",
   "execution_count": 5,
   "metadata": {
    "collapsed": true
   },
   "outputs": [],
   "source": [
    "TF1 Fnslit(\"Fnslit\",nslit,-5.001,5.,2);\n",
    "Fnslit.SetNpx(500);"
   ]
  },
  {
   "cell_type": "markdown",
   "metadata": {},
   "source": [
    "Here you can see that we are setting the parameters for the code, so that we can apply them as fixed variables that we state at the beginning of our code. This saves us the trouble of entering long numbers over and over again. Note that the parameter number starts at 0, not 1."
   ]
  },
  {
   "cell_type": "code",
   "execution_count": 6,
   "metadata": {
    "collapsed": true
   },
   "outputs": [],
   "source": [
    "Fnslit.SetParameters(r,ns);"
   ]
  },
  {
   "cell_type": "markdown",
   "metadata": {},
   "source": [
    "Now that we've got our code nicely written out, we can use the \"Draw\" command so that we can see the graph."
   ]
  },
  {
   "cell_type": "code",
   "execution_count": 7,
   "metadata": {
    "collapsed": false
   },
   "outputs": [
    {
     "name": "stderr",
     "output_type": "stream",
     "text": [
      "Info in <TCanvas::MakeDefCanvas>:  created default TCanvas with name c1\n"
     ]
    },
    {
     "data": {
      "image/png": "[encoded data removed]",
      "text/plain": [
       "<IPython.core.display.Image object>"
      ]
     },
     "metadata": {},
     "output_type": "display_data"
    }
   ],
   "source": [
    "Fnslit.Draw();"
   ]
  },
  {
   "cell_type": "code",
   "execution_count": null,
   "metadata": {
    "collapsed": true
   },
   "outputs": [],
   "source": []
  }
 ],
 "metadata": {
  "kernelspec": {
   "display_name": "Python 2",
   "language": "python",
   "name": "python2"
  },
  "language_info": {
   "codemirror_mode": {
    "name": "ipython",
    "version": 2
   },
   "file_extension": ".py",
   "mimetype": "text/x-python",
   "name": "python",
   "nbconvert_exporter": "python",
   "pygments_lexer": "ipython2",
   "version": "2.7.6"
  }
 },
 "nbformat": 4,
 "nbformat_minor": 0
}
